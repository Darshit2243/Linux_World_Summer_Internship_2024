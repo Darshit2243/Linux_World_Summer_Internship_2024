{
 "cells": [
  {
   "cell_type": "code",
   "execution_count": 1,
   "id": "1f55aaa9",
   "metadata": {},
   "outputs": [
    {
     "name": "stdout",
     "output_type": "stream",
     "text": [
      "Requirement already satisfied: gtts in c:\\users\\darshit\\anaconda3new\\lib\\site-packages (2.5.3)\n",
      "Requirement already satisfied: click<8.2,>=7.1 in c:\\users\\darshit\\anaconda3new\\lib\\site-packages (from gtts) (8.0.4)\n",
      "Requirement already satisfied: requests<3,>=2.27 in c:\\users\\darshit\\anaconda3new\\lib\\site-packages (from gtts) (2.27.1)\n",
      "Requirement already satisfied: colorama in c:\\users\\darshit\\anaconda3new\\lib\\site-packages (from click<8.2,>=7.1->gtts) (0.4.4)\n",
      "Requirement already satisfied: urllib3<1.27,>=1.21.1 in c:\\users\\darshit\\anaconda3new\\lib\\site-packages (from requests<3,>=2.27->gtts) (1.26.9)\n",
      "Requirement already satisfied: idna<4,>=2.5 in c:\\users\\darshit\\anaconda3new\\lib\\site-packages (from requests<3,>=2.27->gtts) (3.3)\n",
      "Requirement already satisfied: charset-normalizer~=2.0.0 in c:\\users\\darshit\\anaconda3new\\lib\\site-packages (from requests<3,>=2.27->gtts) (2.0.4)\n",
      "Requirement already satisfied: certifi>=2017.4.17 in c:\\users\\darshit\\anaconda3new\\lib\\site-packages (from requests<3,>=2.27->gtts) (2021.10.8)\n",
      "Note: you may need to restart the kernel to use updated packages.\n"
     ]
    }
   ],
   "source": [
    "pip install gtts"
   ]
  },
  {
   "cell_type": "code",
   "execution_count": 2,
   "id": "537d6742",
   "metadata": {},
   "outputs": [
    {
     "name": "stdout",
     "output_type": "stream",
     "text": [
      "Audio file 'output.mp3' has been created successfully!\n"
     ]
    }
   ],
   "source": [
    "from gtts import gTTS\n",
    "import os\n",
    "\n",
    "# Define the text you want to convert to audio\n",
    "text = \"Hello, welcome to text-to-speech conversion using Python !\"\n",
    "\n",
    "# Specify the language (e.g., 'en' for English)\n",
    "language = 'en'\n",
    "\n",
    "# Create a gTTS object\n",
    "tts = gTTS(text=text, lang=language, slow=False)\n",
    "\n",
    "# Save the audio file\n",
    "audio_file = \"output.mp3\"\n",
    "tts.save(audio_file)\n",
    "\n",
    "# Play the audio file (optional)\n",
    "os.system(f\"start {audio_file}\")  # For Windows\n",
    "# os.system(f\"afplay {audio_file}\")  # For macOS\n",
    "# os.system(f\"mpg321 {audio_file}\")  # For Linux\n",
    "\n",
    "print(f\"Audio file '{audio_file}' has been created successfully!\")\n"
   ]
  },
  {
   "cell_type": "code",
   "execution_count": null,
   "id": "77ea6019",
   "metadata": {},
   "outputs": [],
   "source": []
  }
 ],
 "metadata": {
  "kernelspec": {
   "display_name": "Python 3 (ipykernel)",
   "language": "python",
   "name": "python3"
  },
  "language_info": {
   "codemirror_mode": {
    "name": "ipython",
    "version": 3
   },
   "file_extension": ".py",
   "mimetype": "text/x-python",
   "name": "python",
   "nbconvert_exporter": "python",
   "pygments_lexer": "ipython3",
   "version": "3.9.12"
  }
 },
 "nbformat": 4,
 "nbformat_minor": 5
}
