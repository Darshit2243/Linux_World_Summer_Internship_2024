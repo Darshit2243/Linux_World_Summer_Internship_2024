{
 "cells": [
  {
   "cell_type": "code",
   "execution_count": 1,
   "id": "8bdc4f4a",
   "metadata": {},
   "outputs": [
    {
     "name": "stdout",
     "output_type": "stream",
     "text": [
      "Collecting twilio\n",
      "  Downloading twilio-9.2.3-py2.py3-none-any.whl (1.8 MB)\n",
      "Collecting aiohttp>=3.8.4\n",
      "  Downloading aiohttp-3.10.5-cp39-cp39-win_amd64.whl (379 kB)\n",
      "Requirement already satisfied: PyJWT<3.0.0,>=2.0.0 in c:\\users\\darshit\\anaconda3new\\lib\\site-packages (from twilio) (2.1.0)\n",
      "Requirement already satisfied: requests>=2.0.0 in c:\\users\\darshit\\anaconda3new\\lib\\site-packages (from twilio) (2.27.1)\n",
      "Collecting aiohttp-retry>=2.8.3\n",
      "  Downloading aiohttp_retry-2.8.3-py3-none-any.whl (9.8 kB)\n",
      "Requirement already satisfied: frozenlist>=1.1.1 in c:\\users\\darshit\\anaconda3new\\lib\\site-packages (from aiohttp>=3.8.4->twilio) (1.2.0)\n",
      "Requirement already satisfied: aiosignal>=1.1.2 in c:\\users\\darshit\\anaconda3new\\lib\\site-packages (from aiohttp>=3.8.4->twilio) (1.2.0)\n",
      "Requirement already satisfied: attrs>=17.3.0 in c:\\users\\darshit\\anaconda3new\\lib\\site-packages (from aiohttp>=3.8.4->twilio) (21.4.0)\n",
      "Collecting aiohappyeyeballs>=2.3.0\n",
      "  Downloading aiohappyeyeballs-2.4.0-py3-none-any.whl (12 kB)\n",
      "Requirement already satisfied: async-timeout<5.0,>=4.0 in c:\\users\\darshit\\anaconda3new\\lib\\site-packages (from aiohttp>=3.8.4->twilio) (4.0.1)\n",
      "Requirement already satisfied: multidict<7.0,>=4.5 in c:\\users\\darshit\\anaconda3new\\lib\\site-packages (from aiohttp>=3.8.4->twilio) (5.1.0)\n",
      "Requirement already satisfied: yarl<2.0,>=1.0 in c:\\users\\darshit\\anaconda3new\\lib\\site-packages (from aiohttp>=3.8.4->twilio) (1.6.3)\n",
      "Requirement already satisfied: typing-extensions>=3.6.5 in c:\\users\\darshit\\anaconda3new\\lib\\site-packages (from async-timeout<5.0,>=4.0->aiohttp>=3.8.4->twilio) (4.1.1)\n",
      "Requirement already satisfied: certifi>=2017.4.17 in c:\\users\\darshit\\anaconda3new\\lib\\site-packages (from requests>=2.0.0->twilio) (2021.10.8)\n",
      "Requirement already satisfied: idna<4,>=2.5 in c:\\users\\darshit\\anaconda3new\\lib\\site-packages (from requests>=2.0.0->twilio) (3.3)\n",
      "Requirement already satisfied: charset-normalizer~=2.0.0 in c:\\users\\darshit\\anaconda3new\\lib\\site-packages (from requests>=2.0.0->twilio) (2.0.4)\n",
      "Requirement already satisfied: urllib3<1.27,>=1.21.1 in c:\\users\\darshit\\anaconda3new\\lib\\site-packages (from requests>=2.0.0->twilio) (1.26.9)\n",
      "Installing collected packages: aiohappyeyeballs, aiohttp, aiohttp-retry, twilio\n",
      "  Attempting uninstall: aiohttp\n",
      "    Found existing installation: aiohttp 3.8.1\n",
      "    Uninstalling aiohttp-3.8.1:\n",
      "      Successfully uninstalled aiohttp-3.8.1\n",
      "Successfully installed aiohappyeyeballs-2.4.0 aiohttp-3.10.5 aiohttp-retry-2.8.3 twilio-9.2.3\n",
      "Note: you may need to restart the kernel to use updated packages.\n"
     ]
    }
   ],
   "source": [
    "pip install twilio\n"
   ]
  },
  {
   "cell_type": "code",
   "execution_count": null,
   "id": "b7468029",
   "metadata": {},
   "outputs": [],
   "source": [
    "from twilio.rest import Client\n",
    "\n",
    "# Your Twilio credentials\n",
    "account_sid = 'account_sid_here'\n",
    "auth_token = 'auth_token_here'\n",
    "twilio_phone_number = 'twilio_phone_number_here'\n",
    "\n",
    "# Create a Twilio client\n",
    "client = Client(account_sid, auth_token)\n",
    "\n",
    "# Details for the SMS\n",
    "to_phone_number = '9555781221'  # Replace with the recipient's phone number\n",
    "message_body = 'Hello, this is a test message sent using Python!'\n",
    "\n",
    "# Send the SMS\n",
    "message = client.messages.create(\n",
    "    body=message_body,\n",
    "    from_=twilio_phone_number,\n",
    "    to=to_phone_number\n",
    ")\n",
    "\n",
    "print(f\"Message sent successfully! Message SID: {message.sid}\")"
   ]
  },
  {
   "cell_type": "code",
   "execution_count": null,
   "id": "fa07a979",
   "metadata": {},
   "outputs": [],
   "source": []
  }
 ],
 "metadata": {
  "kernelspec": {
   "display_name": "Python 3 (ipykernel)",
   "language": "python",
   "name": "python3"
  },
  "language_info": {
   "codemirror_mode": {
    "name": "ipython",
    "version": 3
   },
   "file_extension": ".py",
   "mimetype": "text/x-python",
   "name": "python",
   "nbconvert_exporter": "python",
   "pygments_lexer": "ipython3",
   "version": "3.9.12"
  }
 },
 "nbformat": 4,
 "nbformat_minor": 5
}
