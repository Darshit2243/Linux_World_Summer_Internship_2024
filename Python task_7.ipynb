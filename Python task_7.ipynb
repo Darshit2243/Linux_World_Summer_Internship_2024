{
 "cells": [
  {
   "cell_type": "code",
   "execution_count": null,
   "id": "a85d45fc",
   "metadata": {},
   "outputs": [],
   "source": [
    "import smtplib\n",
    "from email.mime.text import MIMEText\n",
    "\n",
    "# SMS gateway address for the recipient's carrier (replace with actual address)\n",
    "# For example, for Verizon in the US, use \"{number}@vtext.com\"\n",
    "sms_gateway = '95558781698@jio.com'\n",
    "\n",
    "# Email credentials (use a throwaway email for safety)\n",
    "email = \"thecoder2243@gmail.com\"\n",
    "password = \"BO97989893#\"\n",
    "\n",
    "# Email message\n",
    "message = MIMEText(\"Hello from Python via Email-to-SMS!\")\n",
    "message['From'] = email\n",
    "message['To'] = sms_gateway\n",
    "message['Subject'] = \"Just messaging...\"\n",
    "\n",
    "# Send the email\n",
    "with smtplib.SMTP(\"smtp.gmail.com\", 587) as server:\n",
    "    server.starttls()\n",
    "    server.login(email, password)\n",
    "    server.sendmail(email, sms_gateway, message.as_string())\n",
    "\n",
    "print(\"SMS sent successfully!\")"
   ]
  },
  {
   "cell_type": "code",
   "execution_count": null,
   "id": "dbc5e868",
   "metadata": {},
   "outputs": [],
   "source": []
  }
 ],
 "metadata": {
  "kernelspec": {
   "display_name": "Python 3 (ipykernel)",
   "language": "python",
   "name": "python3"
  },
  "language_info": {
   "codemirror_mode": {
    "name": "ipython",
    "version": 3
   },
   "file_extension": ".py",
   "mimetype": "text/x-python",
   "name": "python",
   "nbconvert_exporter": "python",
   "pygments_lexer": "ipython3",
   "version": "3.9.12"
  }
 },
 "nbformat": 4,
 "nbformat_minor": 5
}
