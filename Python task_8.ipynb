{
 "cells": [
  {
   "cell_type": "code",
   "execution_count": 1,
   "id": "f3a372f6",
   "metadata": {},
   "outputs": [],
   "source": [
    "import smtplib\n",
    "from email.mime.multipart import MIMEMultipart\n",
    "from email.mime.text import MIMEText"
   ]
  },
  {
   "cell_type": "code",
   "execution_count": 2,
   "id": "3dcbd5f5",
   "metadata": {},
   "outputs": [
    {
     "name": "stdout",
     "output_type": "stream",
     "text": [
      "Failed to send email: (535, b'5.7.8 Username and Password not accepted. For more information, go to\\n5.7.8  https://support.google.com/mail/?p=BadCredentials 98e67ed59e1d1-2d416f10927sm6376211a91.26 - gsmtp')\n"
     ]
    }
   ],
   "source": [
    "import smtplib\n",
    "from email.mime.multipart import MIMEMultipart\n",
    "from email.mime.text import MIMEText\n",
    "\n",
    "def send_bulk_email(sender_email, sender_password, subject, body, recipients):\n",
    "    \"\"\"\n",
    "    Sends an email to a list of recipients.\n",
    "\n",
    "    Args:\n",
    "    sender_email (str): The email address of the sender.\n",
    "    sender_password (str): The password of the sender's email account.\n",
    "    subject (str): The subject of the email.\n",
    "    body (str): The body of the email.\n",
    "    recipients (list): A list of recipient email addresses.\n",
    "\n",
    "    Returns:\n",
    "    None\n",
    "    \"\"\"\n",
    "    # SMTP server details\n",
    "    smtp_server = \"smtp.gmail.com\"\n",
    "    smtp_port = 587  # Typically 587 for TLS or 465 for SSL\n",
    "\n",
    "    # Create the SMTP connection\n",
    "    try:\n",
    "        server = smtplib.SMTP(smtp_server, smtp_port)\n",
    "        server.starttls()  # Start TLS for security\n",
    "        server.login(sender_email, sender_password)  # Login to the sender's email account\n",
    "        \n",
    "        for recipient in recipients:\n",
    "            # Create a multipart message\n",
    "            msg = MIMEMultipart()\n",
    "            msg['From'] = sender_email\n",
    "            msg['To'] = recipient\n",
    "            msg['Subject'] = subject\n",
    "            \n",
    "            # Attach the body with the msg instance\n",
    "            msg.attach(MIMEText(body, 'plain'))\n",
    "            \n",
    "            # Send the email\n",
    "            server.sendmail(sender_email, recipient, msg.as_string())\n",
    "            print(f\"Email sent to {recipient}\")\n",
    "        \n",
    "        server.quit()  # Disconnect from the server\n",
    "        print(\"All emails sent successfully!\")\n",
    "    \n",
    "    except Exception as e:\n",
    "        print(f\"Failed to send email: {e}\")\n",
    "\n",
    "# Example usage\n",
    "if __name__ == \"__main__\":\n",
    "    sender_email = \"dsd1322lko@gmail.com\"\n",
    "    sender_password = \"#####2@\"  # Use an app password if using Gmail with 2FA\n",
    "    subject = \"This is the Bulk Email Subject\"\n",
    "    body = \"This is a bulk email message sent using Python by me...\"\n",
    "    \n",
    "    # List of recipient email addresses\n",
    "    recipients = [\n",
    "        \"darshit2243@gmail.com\",\n",
    "        \"thecoder2243@gmail.com\",\n",
    "        \"armyyellow07@gmail.com\"\n",
    "    ]\n",
    "    \n",
    "    send_bulk_email(sender_email, sender_password, subject, body, recipients)\n",
    "\n"
   ]
  },
  {
   "cell_type": "code",
   "execution_count": null,
   "id": "d687a0d5",
   "metadata": {},
   "outputs": [],
   "source": []
  }
 ],
 "metadata": {
  "kernelspec": {
   "display_name": "Python 3 (ipykernel)",
   "language": "python",
   "name": "python3"
  },
  "language_info": {
   "codemirror_mode": {
    "name": "ipython",
    "version": 3
   },
   "file_extension": ".py",
   "mimetype": "text/x-python",
   "name": "python",
   "nbconvert_exporter": "python",
   "pygments_lexer": "ipython3",
   "version": "3.9.12"
  }
 },
 "nbformat": 4,
 "nbformat_minor": 5
}
