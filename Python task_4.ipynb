{
 "cells": [
  {
   "cell_type": "code",
   "execution_count": 1,
   "id": "d36441d0",
   "metadata": {},
   "outputs": [
    {
     "name": "stdout",
     "output_type": "stream",
     "text": [
      "Requirement already satisfied: geocoder in c:\\users\\darshit\\anaconda3new\\lib\\site-packages (1.38.1)\n",
      "Requirement already satisfied: geopy in c:\\users\\darshit\\anaconda3new\\lib\\site-packages (2.4.1)\n",
      "Requirement already satisfied: click in c:\\users\\darshit\\anaconda3new\\lib\\site-packages (from geocoder) (8.0.4)\n",
      "Requirement already satisfied: future in c:\\users\\darshit\\anaconda3new\\lib\\site-packages (from geocoder) (0.18.2)\n",
      "Requirement already satisfied: six in c:\\users\\darshit\\anaconda3new\\lib\\site-packages (from geocoder) (1.16.0)\n",
      "Requirement already satisfied: requests in c:\\users\\darshit\\anaconda3new\\lib\\site-packages (from geocoder) (2.27.1)\n",
      "Requirement already satisfied: ratelim in c:\\users\\darshit\\anaconda3new\\lib\\site-packages (from geocoder) (0.1.6)\n",
      "Requirement already satisfied: geographiclib<3,>=1.52 in c:\\users\\darshit\\anaconda3new\\lib\\site-packages (from geopy) (2.0)\n",
      "Requirement already satisfied: colorama in c:\\users\\darshit\\anaconda3new\\lib\\site-packages (from click->geocoder) (0.4.4)\n",
      "Requirement already satisfied: decorator in c:\\users\\darshit\\anaconda3new\\lib\\site-packages (from ratelim->geocoder) (5.1.1)\n",
      "Requirement already satisfied: charset-normalizer~=2.0.0 in c:\\users\\darshit\\anaconda3new\\lib\\site-packages (from requests->geocoder) (2.0.4)\n",
      "Requirement already satisfied: urllib3<1.27,>=1.21.1 in c:\\users\\darshit\\anaconda3new\\lib\\site-packages (from requests->geocoder) (1.26.9)\n",
      "Requirement already satisfied: idna<4,>=2.5 in c:\\users\\darshit\\anaconda3new\\lib\\site-packages (from requests->geocoder) (3.3)\n",
      "Requirement already satisfied: certifi>=2017.4.17 in c:\\users\\darshit\\anaconda3new\\lib\\site-packages (from requests->geocoder) (2021.10.8)\n",
      "Note: you may need to restart the kernel to use updated packages.\n"
     ]
    }
   ],
   "source": [
    "pip install geocoder geopy"
   ]
  },
  {
   "cell_type": "code",
   "execution_count": 2,
   "id": "f0049726",
   "metadata": {},
   "outputs": [
    {
     "name": "stdout",
     "output_type": "stream",
     "text": [
      "Latitude: 26.8393\n",
      "Longitude: 80.9231\n",
      "Location: Dugawan, Naka Hindola, Lucknow, Uttar Pradesh, 226018, India\n"
     ]
    }
   ],
   "source": [
    "import geocoder\n",
    "from geopy.geocoders import Nominatim\n",
    "\n",
    "# Get the current location based on your IP address\n",
    "g = geocoder.ip('me')\n",
    "\n",
    "# Extract the latitude and longitude\n",
    "latitude = g.latlng[0]\n",
    "longitude = g.latlng[1]\n",
    "\n",
    "# Use Nominatim to get the location details\n",
    "geolocator = Nominatim(user_agent=\"geoapiExercises\")\n",
    "location = geolocator.reverse((latitude, longitude), language='en')\n",
    "\n",
    "# Print the results\n",
    "print(f\"Latitude: {latitude}\")\n",
    "print(f\"Longitude: {longitude}\")\n",
    "print(f\"Location: {location.address}\")\n"
   ]
  },
  {
   "cell_type": "code",
   "execution_count": null,
   "id": "796c7a78",
   "metadata": {},
   "outputs": [],
   "source": []
  }
 ],
 "metadata": {
  "kernelspec": {
   "display_name": "Python 3 (ipykernel)",
   "language": "python",
   "name": "python3"
  },
  "language_info": {
   "codemirror_mode": {
    "name": "ipython",
    "version": 3
   },
   "file_extension": ".py",
   "mimetype": "text/x-python",
   "name": "python",
   "nbconvert_exporter": "python",
   "pygments_lexer": "ipython3",
   "version": "3.9.12"
  }
 },
 "nbformat": 4,
 "nbformat_minor": 5
}
