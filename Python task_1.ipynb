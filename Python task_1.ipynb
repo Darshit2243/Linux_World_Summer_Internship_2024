{
 "cells": [
  {
   "cell_type": "code",
   "execution_count": 1,
   "id": "ed665adf",
   "metadata": {},
   "outputs": [
    {
     "name": "stdout",
     "output_type": "stream",
     "text": [
      "Requirement already satisfied: secure-smtplib in c:\\users\\darshit\\anaconda3new\\lib\\site-packages (0.1.1)\n",
      "Note: you may need to restart the kernel to use updated packages.\n"
     ]
    }
   ],
   "source": [
    "pip install secure-smtplib"
   ]
  },
  {
   "cell_type": "code",
   "execution_count": 2,
   "id": "c2082662",
   "metadata": {},
   "outputs": [
    {
     "name": "stdout",
     "output_type": "stream",
     "text": [
      "Failed to send email: (535, b'5.7.8 Username and Password not accepted. For more information, go to\\n5.7.8  https://support.google.com/mail/?p=BadCredentials d2e1a72fcca58-713e85a2191sm3967702b3a.74 - gsmtp')\n"
     ]
    }
   ],
   "source": [
    "#1st task\n",
    "\n",
    "import smtplib\n",
    "from email.mime.multipart import MIMEMultipart\n",
    "from email.mime.text import MIMEText\n",
    "\n",
    "# Email details\n",
    "sender_email = \"thecoder2243@gmail.com\"\n",
    "receiver_email = \"armyyellow07@gmail.com\"\n",
    "subject = \"Messaging through Python\"\n",
    "body = \"This is the body of the email. I am messaging using the python scripts....\"\n",
    "\n",
    "# SMTP server details\n",
    "smtp_server = \"smtp.gmail.com\"\n",
    "smtp_port = 587  # Typically 587 or 465\n",
    "login = \"thecoder2243@gmail.com\"\n",
    "password = \"888888567#\"\n",
    "\n",
    "# Create a multipart message\n",
    "msg = MIMEMultipart()\n",
    "msg['From'] = sender_email\n",
    "msg['To'] = receiver_email\n",
    "msg['Subject'] = subject\n",
    "\n",
    "# Attach the body with the msg instance\n",
    "msg.attach(MIMEText(body, 'plain'))\n",
    "\n",
    "try:\n",
    "    # Create server object with SSL option\n",
    "    server = smtplib.SMTP(smtp_server, smtp_port)\n",
    "    server.starttls()  # Secure the connection\n",
    "    server.login(login, password)  # Login to the email account\n",
    "\n",
    "    # Send the email\n",
    "    text = msg.as_string()\n",
    "    server.sendmail(sender_email, receiver_email, text)\n",
    "\n",
    "    # Disconnect from the server\n",
    "    server.quit()\n",
    "\n",
    "    print(\"Email sent successfully!\")\n",
    "    \n",
    "except Exception as e:\n",
    "    print(f\"Failed to send email: {e}\")\n"
   ]
  },
  {
   "cell_type": "code",
   "execution_count": null,
   "id": "34f105bf",
   "metadata": {},
   "outputs": [],
   "source": []
  }
 ],
 "metadata": {
  "kernelspec": {
   "display_name": "Python 3 (ipykernel)",
   "language": "python",
   "name": "python3"
  },
  "language_info": {
   "codemirror_mode": {
    "name": "ipython",
    "version": 3
   },
   "file_extension": ".py",
   "mimetype": "text/x-python",
   "name": "python",
   "nbconvert_exporter": "python",
   "pygments_lexer": "ipython3",
   "version": "3.9.12"
  }
 },
 "nbformat": 4,
 "nbformat_minor": 5
}
