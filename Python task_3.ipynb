{
 "cells": [
  {
   "cell_type": "code",
   "execution_count": 1,
   "id": "c7cbef5f",
   "metadata": {},
   "outputs": [
    {
     "name": "stdout",
     "output_type": "stream",
     "text": [
      "Requirement already satisfied: beautifulsoup4 in c:\\users\\darshit\\anaconda3new\\lib\\site-packages (4.11.1)\n",
      "Requirement already satisfied: requests in c:\\users\\darshit\\anaconda3new\\lib\\site-packages (2.27.1)\n",
      "Requirement already satisfied: googlesearch-python in c:\\users\\darshit\\anaconda3new\\lib\\site-packages (1.2.5)\n",
      "Requirement already satisfied: soupsieve>1.2 in c:\\users\\darshit\\anaconda3new\\lib\\site-packages (from beautifulsoup4) (2.3.1)\n",
      "Requirement already satisfied: urllib3<1.27,>=1.21.1 in c:\\users\\darshit\\anaconda3new\\lib\\site-packages (from requests) (1.26.9)\n",
      "Requirement already satisfied: idna<4,>=2.5 in c:\\users\\darshit\\anaconda3new\\lib\\site-packages (from requests) (3.3)\n",
      "Requirement already satisfied: charset-normalizer~=2.0.0 in c:\\users\\darshit\\anaconda3new\\lib\\site-packages (from requests) (2.0.4)\n",
      "Requirement already satisfied: certifi>=2017.4.17 in c:\\users\\darshit\\anaconda3new\\lib\\site-packages (from requests) (2021.10.8)\n",
      "Note: you may need to restart the kernel to use updated packages.\n"
     ]
    }
   ],
   "source": [
    "pip install beautifulsoup4 requests googlesearch-python"
   ]
  },
  {
   "cell_type": "code",
   "execution_count": 2,
   "id": "3df11203",
   "metadata": {},
   "outputs": [
    {
     "name": "stdout",
     "output_type": "stream",
     "text": [
      "Requirement already satisfied: google in c:\\users\\darshit\\anaconda3new\\lib\\site-packages (3.0.0)\n",
      "Requirement already satisfied: beautifulsoup4 in c:\\users\\darshit\\anaconda3new\\lib\\site-packages (from google) (4.11.1)\n",
      "Requirement already satisfied: soupsieve>1.2 in c:\\users\\darshit\\anaconda3new\\lib\\site-packages (from beautifulsoup4->google) (2.3.1)\n",
      "Note: you may need to restart the kernel to use updated packages.\n"
     ]
    }
   ],
   "source": [
    "pip install google"
   ]
  },
  {
   "cell_type": "code",
   "execution_count": 3,
   "id": "e23bd9a4",
   "metadata": {},
   "outputs": [
    {
     "name": "stdout",
     "output_type": "stream",
     "text": [
      "1. Python Web Scraping Tutorial - GeeksforGeeks\n",
      "   URL: https://www.geeksforgeeks.org/python-web-scraping-tutorial/\n",
      "\n",
      "2. A Practical Introduction to Web Scraping in Python – Real Python\n",
      "   URL: https://realpython.com/python-web-scraping-practical-introduction/\n",
      "\n",
      "3. A Practical Introduction to Web Scraping in Python – Real Python\n",
      "   URL: https://realpython.com/python-web-scraping-practical-introduction/#scrape-and-parse-text-from-websites\n",
      "\n",
      "4. A Practical Introduction to Web Scraping in Python – Real Python\n",
      "   URL: https://realpython.com/python-web-scraping-practical-introduction/#use-an-html-parser-for-web-scraping-in-python\n",
      "\n",
      "5. Python Web Scraping Tutorial: Step-By-Step [2024 Guide]\n",
      "   URL: https://oxylabs.io/blog/python-web-scraping\n",
      "\n"
     ]
    }
   ],
   "source": [
    "from googlesearch import search\n",
    "import requests\n",
    "from bs4 import BeautifulSoup\n",
    "\n",
    "# Define the search query\n",
    "query = \"Python web scraping\"\n",
    "\n",
    "# Get the top 5 search results\n",
    "top_results = search(query, num=5, stop=5)\n",
    "\n",
    "# Function to scrape title and URL from each result\n",
    "def scrape_results(urls):\n",
    "    for i, url in enumerate(urls, start=1):\n",
    "        try:\n",
    "            # Send a GET request to the URL\n",
    "            response = requests.get(url)\n",
    "            response.raise_for_status()\n",
    "\n",
    "            # Parse the HTML content using BeautifulSoup\n",
    "            soup = BeautifulSoup(response.text, 'html.parser')\n",
    "\n",
    "            # Extract the title of the webpage\n",
    "            title = soup.title.string if soup.title else \"No title available\"\n",
    "\n",
    "            # Print the result\n",
    "            print(f\"{i}. {title}\\n   URL: {url}\\n\")\n",
    "\n",
    "        except Exception as e:\n",
    "            print(f\"Error scraping {url}: {e}\")\n",
    "\n",
    "# Scrape and print the top 5 search results\n",
    "scrape_results(top_results)\n"
   ]
  },
  {
   "cell_type": "code",
   "execution_count": null,
   "id": "6fad5eb5",
   "metadata": {},
   "outputs": [],
   "source": []
  }
 ],
 "metadata": {
  "kernelspec": {
   "display_name": "Python 3 (ipykernel)",
   "language": "python",
   "name": "python3"
  },
  "language_info": {
   "codemirror_mode": {
    "name": "ipython",
    "version": 3
   },
   "file_extension": ".py",
   "mimetype": "text/x-python",
   "name": "python",
   "nbconvert_exporter": "python",
   "pygments_lexer": "ipython3",
   "version": "3.9.12"
  }
 },
 "nbformat": 4,
 "nbformat_minor": 5
}
