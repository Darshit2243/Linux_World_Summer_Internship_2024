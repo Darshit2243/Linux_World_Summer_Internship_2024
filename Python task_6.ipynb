{
 "cells": [
  {
   "cell_type": "code",
   "execution_count": 1,
   "id": "750a2ed0",
   "metadata": {},
   "outputs": [
    {
     "name": "stdout",
     "output_type": "stream",
     "text": [
      "Requirement already satisfied: pycaw in c:\\users\\darshit\\anaconda3new\\lib\\site-packages (20240210)\n",
      "Requirement already satisfied: psutil in c:\\users\\darshit\\anaconda3new\\lib\\site-packages (from pycaw) (5.8.0)\n",
      "Requirement already satisfied: comtypes in c:\\users\\darshit\\anaconda3new\\lib\\site-packages (from pycaw) (1.1.10)\n",
      "Note: you may need to restart the kernel to use updated packages.\n"
     ]
    }
   ],
   "source": [
    "pip install pycaw"
   ]
  },
  {
   "cell_type": "code",
   "execution_count": 2,
   "id": "2d268e4f",
   "metadata": {},
   "outputs": [
    {
     "name": "stdout",
     "output_type": "stream",
     "text": [
      "Requirement already satisfied: comtypes in c:\\users\\darshit\\anaconda3new\\lib\\site-packages (1.1.10)\n",
      "Note: you may need to restart the kernel to use updated packages.\n"
     ]
    }
   ],
   "source": [
    "pip install comtypes"
   ]
  },
  {
   "cell_type": "code",
   "execution_count": 3,
   "id": "926d6915",
   "metadata": {},
   "outputs": [
    {
     "name": "stdout",
     "output_type": "stream",
     "text": [
      "Requirement already satisfied: pywin32 in c:\\users\\darshit\\anaconda3new\\lib\\site-packages (302)\n",
      "Note: you may need to restart the kernel to use updated packages.\n"
     ]
    }
   ],
   "source": [
    "pip install pywin32"
   ]
  },
  {
   "cell_type": "code",
   "execution_count": 1,
   "id": "71ec9ffa",
   "metadata": {},
   "outputs": [],
   "source": [
    "import pyautogui\n",
    "import time\n",
    "\n",
    "# Press the volume down key 5 times (decreases the volume)\n",
    "for _ in range(5):\n",
    "    pyautogui.press(\"volumedown\")\n",
    "    time.sleep(0.1)\n",
    "\n",
    "# Press the volume up key 5 times (increases the volume)\n",
    "for _ in range(5):\n",
    "    pyautogui.press(\"volumeup\")\n",
    "    time.sleep(0.1)"
   ]
  },
  {
   "cell_type": "code",
   "execution_count": 2,
   "id": "cba57f6f",
   "metadata": {},
   "outputs": [
    {
     "name": "stdout",
     "output_type": "stream",
     "text": [
      "Requirement already satisfied: pyautogui in c:\\users\\darshit\\anaconda3new\\lib\\site-packages (0.9.54)\n",
      "Requirement already satisfied: pyscreeze>=0.1.21 in c:\\users\\darshit\\anaconda3new\\lib\\site-packages (from pyautogui) (0.1.30)\n",
      "Requirement already satisfied: pygetwindow>=0.0.5 in c:\\users\\darshit\\anaconda3new\\lib\\site-packages (from pyautogui) (0.0.9)\n",
      "Requirement already satisfied: pymsgbox in c:\\users\\darshit\\anaconda3new\\lib\\site-packages (from pyautogui) (1.0.9)\n",
      "Requirement already satisfied: pytweening>=1.0.4 in c:\\users\\darshit\\anaconda3new\\lib\\site-packages (from pyautogui) (1.2.0)\n",
      "Requirement already satisfied: mouseinfo in c:\\users\\darshit\\anaconda3new\\lib\\site-packages (from pyautogui) (0.1.3)\n",
      "Requirement already satisfied: pyrect in c:\\users\\darshit\\anaconda3new\\lib\\site-packages (from pygetwindow>=0.0.5->pyautogui) (0.2.0)\n",
      "Requirement already satisfied: Pillow>=9.2.0 in c:\\users\\darshit\\anaconda3new\\lib\\site-packages (from pyscreeze>=0.1.21->pyautogui) (10.4.0)Note: you may need to restart the kernel to use updated packages.\n",
      "Requirement already satisfied: pyperclip in c:\\users\\darshit\\anaconda3new\\lib\\site-packages (from mouseinfo->pyautogui) (1.9.0)\n",
      "\n"
     ]
    }
   ],
   "source": [
    "pip install pyautogui\n"
   ]
  },
  {
   "cell_type": "code",
   "execution_count": 3,
   "id": "73049a6f",
   "metadata": {},
   "outputs": [],
   "source": [
    "import pyautogui\n",
    "import time\n",
    "\n",
    "# Press the volume down key 5 times (decreases the volume)\n",
    "for _ in range(5):\n",
    "    pyautogui.press(\"volumedown\")\n",
    "    time.sleep(0.1)\n",
    "\n",
    "# Press the volume up key 5 times (increases the volume)\n",
    "for _ in range(5):\n",
    "    pyautogui.press(\"volumeup\")\n",
    "    time.sleep(0.1)\n"
   ]
  },
  {
   "cell_type": "code",
   "execution_count": 4,
   "id": "459cca4d",
   "metadata": {},
   "outputs": [
    {
     "data": {
      "text/plain": [
       "1"
      ]
     },
     "execution_count": 4,
     "metadata": {},
     "output_type": "execute_result"
    }
   ],
   "source": [
    "import os\n",
    "\n",
    "# Increase volume by a small amount\n",
    "os.system(\"nircmd.exe changesysvolume 5000\")\n",
    "\n",
    "# Decrease volume by a small amount\n",
    "os.system(\"nircmd.exe changesysvolume -5000\")\n",
    "\n",
    "# Set volume to 50%\n",
    "os.system(\"nircmd.exe setsysvolume 32768\")\n"
   ]
  },
  {
   "cell_type": "code",
   "execution_count": 5,
   "id": "e3ab215d",
   "metadata": {},
   "outputs": [
    {
     "name": "stdout",
     "output_type": "stream",
     "text": [
      "New Volume: 0.5\n"
     ]
    }
   ],
   "source": [
    "from pycaw.pycaw import AudioUtilities, ISimpleAudioVolume\n",
    "from ctypes import cast, POINTER\n",
    "from comtypes import CLSCTX_ALL\n",
    "\n",
    "# Get the current session (for system volume)\n",
    "sessions = AudioUtilities.GetAllSessions()\n",
    "for session in sessions:\n",
    "    volume = session._ctl.QueryInterface(ISimpleAudioVolume)\n",
    "    # Set volume to 50%\n",
    "    volume.SetMasterVolume(0.5, None)  # 0.5 = 50%\n",
    "\n",
    "    print(f\"New Volume: {volume.GetMasterVolume()}\")\n",
    "    break"
   ]
  },
  {
   "cell_type": "code",
   "execution_count": null,
   "id": "dd487be0",
   "metadata": {},
   "outputs": [],
   "source": []
  }
 ],
 "metadata": {
  "kernelspec": {
   "display_name": "Python 3 (ipykernel)",
   "language": "python",
   "name": "python3"
  },
  "language_info": {
   "codemirror_mode": {
    "name": "ipython",
    "version": 3
   },
   "file_extension": ".py",
   "mimetype": "text/x-python",
   "name": "python",
   "nbconvert_exporter": "python",
   "pygments_lexer": "ipython3",
   "version": "3.9.12"
  }
 },
 "nbformat": 4,
 "nbformat_minor": 5
}
